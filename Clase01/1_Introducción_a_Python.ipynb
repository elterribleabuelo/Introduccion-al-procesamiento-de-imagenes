{
  "nbformat": 4,
  "nbformat_minor": 0,
  "metadata": {
    "colab": {
      "name": "1. Introducción a Python.ipynb",
      "provenance": [],
      "collapsed_sections": [
        "vl33mn9lUhlM",
        "aQfFnqP4PF0U",
        "CqdFMk82myDv",
        "Ju0gPBZ2njDg",
        "wBULX3IIPukU",
        "ralQpKLb5nAK",
        "-MDbv6XrTyiu",
        "i83naThXylbI"
      ]
    },
    "kernelspec": {
      "name": "python3",
      "display_name": "Python 3"
    }
  },
  "cells": [
    {
      "cell_type": "markdown",
      "metadata": {
        "id": "YG2WxyQ9e2vk"
      },
      "source": [
        "# ***Introduccion a Python***"
      ]
    },
    {
      "cell_type": "markdown",
      "metadata": {
        "id": "FkcVycPLi-Oq"
      },
      "source": [
        "\n",
        "Python es un lenguaje de escritura de alto nivel, interpretado, imperativo, orientado a objetos, dinámico y fuerte que tiene las siguientes características:\n",
        "\n",
        "* No hay declaración previa de variables, y los tipos de variables se       determinan dinámicamente.\n",
        "\n",
        "* El control de bloques se realiza solo por identacion; No hay delimitadores de tipo BEGIN y END.\n",
        "\n",
        "* Oferece tipos de datos de alto nível: strings, listas, tuplas, diccionarios, archivos, clases.\n",
        "\n"
      ]
    },
    {
      "cell_type": "markdown",
      "metadata": {
        "id": "vl33mn9lUhlM"
      },
      "source": [
        "# 1. Tipos de variables en python"
      ]
    },
    {
      "cell_type": "markdown",
      "metadata": {
        "id": "4T1s51G8DpXG"
      },
      "source": [
        "\n",
        "\n",
        "| Tipos de varibles | Descripcion                                   | ejemplo      |\n",
        "|---------------|---------------------------------------------|-------------------------|\n",
        "| *int*         | valor entero                           | a = 103458              |\n",
        "| *float*       | valor punto flotante                 | pi = 3.14159265         |\n",
        "| *bool*        | Variable  *booleana* - *True* ou *False*     | a = False               |\n",
        "| *complex*     | Variable de número complexo                 | c = 2+3j                |\n",
        "| *str*         | Variable para cadena de caracteres ASCII    | a = \"Exemplo\"           |\n",
        "| *list*        | Lista heterogena que pode alterar sus valores   | lista = [4,'eu',1]      |\n",
        "| *tuple*       | Tupla heterogenea inmutable                  | tupla = (1,'eu',2)      |\n",
        "| *dict*        |conjunto de valores asociados            | dic = {1:'eu',2:'você'} |   "
      ]
    },
    {
      "cell_type": "code",
      "metadata": {
        "id": "7KIUoR4ujD0l",
        "outputId": "8fde3c18-1b96-471a-cce9-3e846c9447e1",
        "colab": {
          "base_uri": "https://localhost:8080/",
          "height": 158
        }
      },
      "source": [
        "a = 3\n",
        "print(type(a))\n",
        "\n",
        "b = 3.14\n",
        "print(type(b))\n",
        "\n",
        "c = bool(0)\n",
        "print(type(c))\n",
        "\n",
        "d = 3+4j\n",
        "print(type(d))\n",
        "\n",
        "e='Hola Mundo'\n",
        "print(type(e))\n",
        "\n",
        "f=[4,2,'e']\n",
        "print(type(f))\n",
        "\n",
        "g=(1,2,'e')\n",
        "print(type(g))\n",
        "\n",
        "h= {1:'eu',2:'SPS'}\n",
        "print(type(h))\n"
      ],
      "execution_count": null,
      "outputs": [
        {
          "output_type": "stream",
          "text": [
            "<class 'int'>\n",
            "<class 'float'>\n",
            "<class 'bool'>\n",
            "<class 'complex'>\n",
            "<class 'str'>\n",
            "<class 'list'>\n",
            "<class 'tuple'>\n",
            "<class 'dict'>\n"
          ],
          "name": "stdout"
        }
      ]
    },
    {
      "cell_type": "code",
      "metadata": {
        "id": "PayWC_jaiyOG"
      },
      "source": [
        "print(a + b)  \n",
        "print(b * c) \n",
        "print(c / a)\n",
        "print(7//2)\n",
        "# el resto\n",
        "print( 7 % 2 )"
      ],
      "execution_count": null,
      "outputs": []
    },
    {
      "cell_type": "markdown",
      "metadata": {
        "id": "R0DHdI7qDf3x"
      },
      "source": [
        "# 2. Operaciones basicas"
      ]
    },
    {
      "cell_type": "markdown",
      "metadata": {
        "id": "aQfFnqP4PF0U"
      },
      "source": [
        "## 2.1 Enteros"
      ]
    },
    {
      "cell_type": "code",
      "metadata": {
        "id": "eh6v7C9itcce",
        "outputId": "40d6e5de-80f4-4841-8f12-e2bca77e8cf9",
        "colab": {
          "base_uri": "https://localhost:8080/",
          "height": 141
        }
      },
      "source": [
        "a=7\n",
        "b=2\n",
        "\n",
        "print(\"Suma:\" , a+b )\n",
        "print(\"Resta:\" , a-b )\n",
        "print(\"Multiplicacion:\",a*b)\n",
        "print(\"Potenciacion:\" , a**b)\n",
        "print(\"Division:\",a/b)\n",
        "print(\"Division exacta:\" , a//b )\n",
        "print(\"Resto:\" , a%b )\n"
      ],
      "execution_count": null,
      "outputs": [
        {
          "output_type": "stream",
          "text": [
            "Suma: 9\n",
            "Resta: 5\n",
            "Multiplicacion: 14\n",
            "Potenciacion: 49\n",
            "Division: 3.5\n",
            "Division exacta: 3\n",
            "Resto: 1\n"
          ],
          "name": "stdout"
        }
      ]
    },
    {
      "cell_type": "markdown",
      "metadata": {
        "id": "CqdFMk82myDv"
      },
      "source": [
        "## 2.2 Flotantes"
      ]
    },
    {
      "cell_type": "code",
      "metadata": {
        "id": "Kdq-JrFWncCk",
        "outputId": "0674d01f-2c40-47f5-f23f-eb6025bc4a06",
        "colab": {
          "base_uri": "https://localhost:8080/",
          "height": 141
        }
      },
      "source": [
        "#a=7.0\n",
        "a=7\n",
        "b=2.0\n",
        "\n",
        "print(\"Suma:\" , a+b )\n",
        "print(\"Resta:\" , a-b )\n",
        "print(\"Multiplicacion:\",a*b)\n",
        "print(\"Potenciacion:\" , a**b)\n",
        "print(\"Division:\",a/b)\n",
        "print(\"Division exacta:\" , a//b )\n",
        "print(\"Resto:\" , a%b )"
      ],
      "execution_count": null,
      "outputs": [
        {
          "output_type": "stream",
          "text": [
            "Suma: 9.0\n",
            "Resta: 5.0\n",
            "Multiplicacion: 14.0\n",
            "Potenciacion: 49.0\n",
            "Division: 3.5\n",
            "Division exacta: 3.0\n",
            "Resto: 1.0\n"
          ],
          "name": "stdout"
        }
      ]
    },
    {
      "cell_type": "markdown",
      "metadata": {
        "id": "Ju0gPBZ2njDg"
      },
      "source": [
        "## 2.3 Complex"
      ]
    },
    {
      "cell_type": "code",
      "metadata": {
        "id": "tDBOIELSI0O1",
        "outputId": "0e3e956f-7f51-4905-ca89-e69d6f568f5a",
        "colab": {
          "base_uri": "https://localhost:8080/",
          "height": 176
        }
      },
      "source": [
        "c1 = 4 + 3j\n",
        "c2 = complex(2, 3)\n",
        "print(\"Suma:\" , c1 + c2 )\n",
        "print(\"Resta:\", c1 - c2)\n",
        "print(\"Multiplicacion:\" , c1 * 3 )\n",
        "print(\"Multiplicacion:\" , c1 * c2 )\n",
        "print(\"Conjugada:\" , c1.conjugate() )\n",
        "print(\"Division:\" , c1 / c2 )\n",
        "print(\"Modulo:\", abs(c1) )\n",
        "print(\"Parte real:\" , c1.real )\n",
        "print(\"Parte imaginaria:\" , c1.imag)"
      ],
      "execution_count": null,
      "outputs": [
        {
          "output_type": "stream",
          "text": [
            "Suma: (6+6j)\n",
            "Resta: (2+0j)\n",
            "Multiplicacion: (12+9j)\n",
            "Multiplicacion: (-1+18j)\n",
            "Conjugada: (4-3j)\n",
            "Division: (1.3076923076923077-0.46153846153846156j)\n",
            "Modulo: 5.0\n",
            "Parte real: 4.0\n",
            "Parte imaginaria: 3.0\n"
          ],
          "name": "stdout"
        }
      ]
    },
    {
      "cell_type": "code",
      "metadata": {
        "id": "AWQEWfoRN6pu",
        "outputId": "3390a19c-25ed-4f50-9d8f-3f060587d742",
        "colab": {
          "base_uri": "https://localhost:8080/",
          "height": 511
        }
      },
      "source": [
        "# Fractales \n",
        "\n",
        "import numpy as np\n",
        "import numba\n",
        "import matplotlib.pyplot as plt\n",
        "\n",
        "def py_julia_fractal(z_re, z_im, j):\n",
        "    '''Crea el grafico del fractal de Julia.'''\n",
        "    for m in range(len(z_re)):\n",
        "        for n in range(len(z_im)):\n",
        "            z = z_re[m] + 1j * z_im[n]\n",
        "            for t in range(256):\n",
        "                z = z ** 3 - 0.05 + 0.68j\n",
        "                if np.abs(z) > 2.0:\n",
        "                    j[m, n] = t\n",
        "                    break\n",
        "                    \n",
        "jit_julia_fractal = numba.jit(nopython=True)(py_julia_fractal)\n",
        "\n",
        "N = 1024\n",
        "j = np.zeros((N, N), np.int64)\n",
        "z_real = np.linspace(-1.5, 1.5, N)\n",
        "z_imag = np.linspace(-1.5, 1.5, N)\n",
        "jit_julia_fractal(z_real, z_imag, j)\n",
        "\n",
        "fig, ax = plt.subplots(figsize=(8, 8))\n",
        "ax.imshow(j, cmap=plt.cm.RdBu_r, extent=[-1.5, 1.5, -1.5, 1.5])\n",
        "ax.set_xlabel(\"$\\mathrm{Re}(z)$\", fontsize=18)\n",
        "ax.set_ylabel(\"$\\mathrm{Im}(z)$\", fontsize=18)\n",
        "plt.show()\n",
        "\n",
        "\n"
      ],
      "execution_count": null,
      "outputs": [
        {
          "output_type": "display_data",
          "data": {
            "image/png": "[encoded data removed]",
            "text/plain": [
              "<Figure size 576x576 with 1 Axes>"
            ]
          },
          "metadata": {
            "tags": [],
            "needs_background": "light"
          }
        }
      ]
    },
    {
      "cell_type": "markdown",
      "metadata": {
        "id": "wBULX3IIPukU"
      },
      "source": [
        "## 2.4 Booleanos"
      ]
    },
    {
      "cell_type": "code",
      "metadata": {
        "id": "rte32xgdJl9l",
        "outputId": "1201f89e-0d18-41da-bcfa-7d993da7ea7c",
        "colab": {
          "base_uri": "https://localhost:8080/",
          "height": 212
        }
      },
      "source": [
        "a = True\n",
        "b = False\n",
        "c = bool(0)\n",
        "d = bool(1)\n",
        "e = 3>2\n",
        "f = 2==1\n",
        "\n",
        "print(a)\n",
        "print(b)\n",
        "print(c)\n",
        "print(d)\n",
        "print(e)\n",
        "print(f)\n",
        "\n",
        "print('\\nOperaciones: ')\n",
        "print(a and b)\n",
        "print(a or b)\n",
        "print(not a)"
      ],
      "execution_count": null,
      "outputs": [
        {
          "output_type": "stream",
          "text": [
            "True\n",
            "False\n",
            "False\n",
            "True\n",
            "True\n",
            "False\n",
            "\n",
            "Operaciones: \n",
            "False\n",
            "True\n",
            "False\n"
          ],
          "name": "stdout"
        }
      ]
    },
    {
      "cell_type": "markdown",
      "metadata": {
        "id": "ralQpKLb5nAK"
      },
      "source": [
        "## 2.5 Listas"
      ]
    },
    {
      "cell_type": "code",
      "metadata": {
        "id": "smP9bcI75sX1",
        "outputId": "d79a741a-cf27-4db0-b045-5b2957277611",
        "colab": {
          "base_uri": "https://localhost:8080/",
          "height": 194
        }
      },
      "source": [
        "a = [0,1,2,3,4,5,6,7,8,9,10,11]\n",
        "b = [0,1,2,3,4]\n",
        "c = [ \"fiee\" , \" \" , \"UNI\" , 1 , 2.0 ]\n",
        "\n",
        "\n",
        "e = [ 'a' , 1 , 7]\n",
        "print(e[0])\n",
        "print(e[1])\n",
        "print(e[2])\n",
        "\n",
        "print(\"Formas de mostrar listas:\\n\")\n",
        "print(a)\n",
        "print(b)\n",
        "print(c)\n",
        "print(\"\\n\")\n",
        "\n"
      ],
      "execution_count": null,
      "outputs": [
        {
          "output_type": "stream",
          "text": [
            "a\n",
            "1\n",
            "7\n",
            "Formas de mostrar listas:\n",
            "\n",
            "[0, 1, 2, 3, 4, 5, 6, 7, 8, 9, 10, 11]\n",
            "[0, 1, 2, 3, 4]\n",
            "['fiee', ' ', 'UNI', 1, 2.0]\n",
            "\n",
            "\n"
          ],
          "name": "stdout"
        }
      ]
    },
    {
      "cell_type": "code",
      "metadata": {
        "id": "EiJgHEIZGAK4",
        "outputId": "ea31d8ca-e89b-4bf6-dfcc-13c7264b3c21",
        "colab": {
          "base_uri": "https://localhost:8080/",
          "height": 247
        }
      },
      "source": [
        "# OJO\n",
        "#a = [0,1,2,3,4,5,6,7,8,9,10,11]\n",
        "#a= [0, 1, 2, 5.5, 3, 4, 5, 6, 7, 8, 9, 10, 11, 12, 15]\n",
        "\n",
        "print(\"Metodos en listas:\")\n",
        "print(\"Append:\")\n",
        "a.append(12)\n",
        "print(a)\n",
        "print(\"\\n\")\n",
        "\n",
        "print(\"Extend:\")\n",
        "a.extend([15])\n",
        "print(a)\n",
        "print(\"\\n\")\n",
        "\n",
        "print(\"Insert:\")\n",
        "a.insert (3,5.5)\n",
        "print(a)\n",
        "print(\"\\n\")"
      ],
      "execution_count": null,
      "outputs": [
        {
          "output_type": "stream",
          "text": [
            "Metodos en listas:\n",
            "Append:\n",
            "[0, 1, 2, 5.5, 3, 4, 5, 6, 7, 8, 9, 10, 11, 12, 15, 12]\n",
            "\n",
            "\n",
            "Extend:\n",
            "[0, 1, 2, 5.5, 3, 4, 5, 6, 7, 8, 9, 10, 11, 12, 15, 12, 15]\n",
            "\n",
            "\n",
            "Insert:\n",
            "[0, 1, 2, 5.5, 5.5, 3, 4, 5, 6, 7, 8, 9, 10, 11, 12, 15, 12, 15]\n",
            "\n",
            "\n"
          ],
          "name": "stdout"
        }
      ]
    },
    {
      "cell_type": "code",
      "metadata": {
        "id": "x7NjbndIgecc",
        "outputId": "ca1d0d85-3702-47ab-b0ce-ff6bb03babf4",
        "colab": {
          "base_uri": "https://localhost:8080/",
          "height": 87
        }
      },
      "source": [
        "#OJO\n",
        "c = [ \"fiee\" , \" \" , \"UNI\" , 1 , 2.0 ]\n",
        "\n",
        "print(c)\n",
        "c.remove('fiee')\n",
        "print(c)\n",
        "\n",
        "c.reverse()\n",
        "print(c)\n",
        "\n",
        "\n",
        "\n",
        "def myFunc(e):\n",
        "  return len(e)\n",
        "\n",
        "cars = ['Ford', 'Mitsubishi', 'BMW', 'VW']\n",
        "\n",
        "cars.sort(key=myFunc)\n",
        "\n",
        "print(cars)\n",
        "\n"
      ],
      "execution_count": null,
      "outputs": [
        {
          "output_type": "stream",
          "text": [
            "['fiee', ' ', 'UNI', 1, 2.0]\n",
            "[' ', 'UNI', 1, 2.0]\n",
            "[2.0, 1, 'UNI', ' ']\n",
            "['VW', 'BMW', 'Ford', 'Mitsubishi']\n"
          ],
          "name": "stdout"
        }
      ]
    },
    {
      "cell_type": "markdown",
      "metadata": {
        "id": "-MDbv6XrTyiu"
      },
      "source": [
        "## 2.3 String"
      ]
    },
    {
      "cell_type": "code",
      "metadata": {
        "id": "nLkiFjSBu-VW",
        "outputId": "3904ac8b-9284-422e-8af8-6cf3f22f3e92",
        "colab": {
          "base_uri": "https://localhost:8080/",
          "height": 52
        }
      },
      "source": [
        "a = \"UNI\"\n",
        "b= 'UNI fiee'\n",
        "\n",
        "print('Hola' + ' ' + 'Mundo')\n",
        "print('Hola ' * 3 + 'Mundo')\n",
        "\n"
      ],
      "execution_count": null,
      "outputs": [
        {
          "output_type": "stream",
          "text": [
            "Hola Mundo\n",
            "Hola Hola Hola Mundo\n"
          ],
          "name": "stdout"
        }
      ]
    },
    {
      "cell_type": "code",
      "metadata": {
        "id": "QAHS2tqYJcYa",
        "outputId": "649ea3a1-8e4d-413b-dcbc-87e116233d2e",
        "colab": {
          "base_uri": "https://localhost:8080/",
          "height": 87
        }
      },
      "source": [
        "c = 'hola mundo'\n",
        "c = 'Hola'\n",
        "c += ' ' # c = c + ' '\n",
        "c += 'Mundo' # c = c + 'mundo'\n",
        "\n",
        "print(c)\n",
        "print(len(c))\n",
        "print( c.find('M') )\n",
        "print( c.find('jajaja') )"
      ],
      "execution_count": null,
      "outputs": [
        {
          "output_type": "stream",
          "text": [
            "Hola Mundo\n",
            "10\n",
            "5\n",
            "-1\n"
          ],
          "name": "stdout"
        }
      ]
    },
    {
      "cell_type": "code",
      "metadata": {
        "id": "G3RdMvoXdApn",
        "outputId": "27481de7-a3d9-40b3-a295-1432c33248d5",
        "colab": {
          "base_uri": "https://localhost:8080/",
          "height": 70
        }
      },
      "source": [
        "d='HOLA MUNDO'\n",
        "print(d.lower())\n",
        "print(c.upper())\n",
        "print(d.replace(\"L\", \"UNI\"))"
      ],
      "execution_count": null,
      "outputs": [
        {
          "output_type": "stream",
          "text": [
            "hola mundo\n",
            "HOLA MUNDO\n",
            "HOUNIA MUNDO\n"
          ],
          "name": "stdout"
        }
      ]
    },
    {
      "cell_type": "code",
      "metadata": {
        "id": "2G_paNFLXXj3",
        "outputId": "dc1902bc-f00a-4234-ca65-95f0f96cc9cb",
        "colab": {
          "base_uri": "https://localhost:8080/",
          "height": 141
        }
      },
      "source": [
        "e = 'abcdefg'\n",
        "print(e)\n",
        "print(e[0:4])  # 0 , 1 , 2 , 3\n",
        "print(e[2:5])\n",
        "print(e[:5]) # e[0:5] --- Igual \n",
        "print(e[2:]) \n",
        "print( e[-3:])\n",
        "print(e[0:5:2]) # 0 , 2 , 4"
      ],
      "execution_count": null,
      "outputs": [
        {
          "output_type": "stream",
          "text": [
            "abcdefg\n",
            "abcd\n",
            "cde\n",
            "abcde\n",
            "cdefg\n",
            "efg\n",
            "ace\n"
          ],
          "name": "stdout"
        }
      ]
    },
    {
      "cell_type": "markdown",
      "metadata": {
        "id": "i83naThXylbI"
      },
      "source": [
        "## 2.4 Tuplas"
      ]
    },
    {
      "cell_type": "code",
      "metadata": {
        "id": "4uz-FlG0yqJy",
        "outputId": "7b0558ec-4b92-4baa-992e-c6762596764d",
        "colab": {
          "base_uri": "https://localhost:8080/",
          "height": 87
        }
      },
      "source": [
        "a = ( 'a' , 2 , 2.3 , \"Hola\" )\n",
        "b = ( 1 , 2 , 4 , '' )\n",
        "\n",
        "print(a+b)\n",
        "print(a*2)\n",
        "print(a[0:2])\n",
        "print(b[:4]) # No aparece numero a la izquierda entonces comineza desde 0\n",
        "\n",
        "#a[0] = 1\n",
        "#a[1] = 2"
      ],
      "execution_count": null,
      "outputs": [
        {
          "output_type": "stream",
          "text": [
            "('a', 2, 2.3, 'Hola', 1, 2, 4, '')\n",
            "('a', 2, 2.3, 'Hola', 'a', 2, 2.3, 'Hola')\n",
            "('a', 2)\n",
            "(1, 2, 4, '')\n"
          ],
          "name": "stdout"
        }
      ]
    },
    {
      "cell_type": "markdown",
      "metadata": {
        "id": "eXbWtfZqi82D"
      },
      "source": [
        "## 2.5 Diccionarios"
      ]
    },
    {
      "cell_type": "code",
      "metadata": {
        "id": "2_DOc4wGjLzI",
        "outputId": "99647a49-41ca-498c-a2df-a961fdbfd07a",
        "colab": {
          "base_uri": "https://localhost:8080/",
          "height": 52
        }
      },
      "source": [
        "hola = { 'hola':1 , '2':3 , 3:'keratech',3+4j:'g' }\n",
        "\n",
        "print(hola)\n",
        "print(hola[3+4j])"
      ],
      "execution_count": null,
      "outputs": [
        {
          "output_type": "stream",
          "text": [
            "{'hola': 1, '2': 3, 3: 'keratech', (3+4j): 'g'}\n",
            "g\n"
          ],
          "name": "stdout"
        }
      ]
    },
    {
      "cell_type": "markdown",
      "metadata": {
        "id": "KoXUkyetfkJF"
      },
      "source": [
        "# 3. Estructura de control"
      ]
    },
    {
      "cell_type": "markdown",
      "metadata": {
        "id": "RonXn2GpA8rW"
      },
      "source": [
        "## 3.1 If"
      ]
    },
    {
      "cell_type": "code",
      "metadata": {
        "id": "H1i9w0FhBBr6",
        "outputId": "3aa04b1c-0abd-4a2e-a191-6fd7ad5f2cf1",
        "colab": {
          "base_uri": "https://localhost:8080/",
          "height": 34
        }
      },
      "source": [
        "if (3>2):\n",
        "  print(\"4566\")"
      ],
      "execution_count": null,
      "outputs": [
        {
          "output_type": "stream",
          "text": [
            "4566\n"
          ],
          "name": "stdout"
        }
      ]
    },
    {
      "cell_type": "markdown",
      "metadata": {
        "id": "nqlJiCoHBGgb"
      },
      "source": [
        "## 3.2 If-Else"
      ]
    },
    {
      "cell_type": "code",
      "metadata": {
        "id": "seLOUwF0BLhq"
      },
      "source": [
        "if (1>2):\n",
        "  print(\"4566\")\n",
        "else:\n",
        "  print(\"hola clase\")"
      ],
      "execution_count": null,
      "outputs": []
    },
    {
      "cell_type": "markdown",
      "metadata": {
        "id": "kWfBEuwjBNKi"
      },
      "source": [
        "## 3.3 For"
      ]
    },
    {
      "cell_type": "code",
      "metadata": {
        "id": "YB6WB16CUv2W"
      },
      "source": [
        "x=range(5)\n",
        "print(type(x))"
      ],
      "execution_count": null,
      "outputs": []
    },
    {
      "cell_type": "code",
      "metadata": {
        "id": "_OTi_uZnf-9k",
        "outputId": "d4ee690e-6f74-437f-8d3d-e60db89b6c9c",
        "colab": {
          "base_uri": "https://localhost:8080/",
          "height": 407
        }
      },
      "source": [
        "\n",
        "for i in range(5):\n",
        "    print (i)\n",
        "\n",
        "print(\"\\n\")\n",
        "x=\"hola\"\n",
        "for i in x:\n",
        "    print(i)\n",
        "\n",
        "print(\"\\n\")\n",
        "y=[1,34,\"fiee\"]\n",
        "for j in y:\n",
        "  print(j*2)\n",
        "\n",
        "print(\"\\n\")\n",
        "hola = { 'hola':1 , '2':3 , 3:'keratech',3+4j:'g' }\n",
        "for k in hola:\n",
        "  print(k)\n",
        "# For con diccionarios ?"
      ],
      "execution_count": null,
      "outputs": [
        {
          "output_type": "stream",
          "text": [
            "0\n",
            "1\n",
            "2\n",
            "3\n",
            "4\n",
            "\n",
            "\n",
            "h\n",
            "o\n",
            "l\n",
            "a\n",
            "\n",
            "\n",
            "2\n",
            "68\n",
            "fieefiee\n",
            "\n",
            "\n",
            "hola\n",
            "2\n",
            "3\n",
            "(3+4j)\n"
          ],
          "name": "stdout"
        }
      ]
    },
    {
      "cell_type": "markdown",
      "metadata": {
        "id": "rCdyvtCscexp"
      },
      "source": [
        "## 3.4 While"
      ]
    },
    {
      "cell_type": "code",
      "metadata": {
        "id": "uH0fU3zShlBm",
        "outputId": "1f0b5cbe-cd10-42b7-cbd2-6999d762a1cf",
        "colab": {
          "base_uri": "https://localhost:8080/",
          "height": 230
        }
      },
      "source": [
        "year = 2001\n",
        "while year <= 2012: \n",
        "    print (\"Informes del Año\", str(year)) \n",
        "    year += 1# year = year + 1"
      ],
      "execution_count": null,
      "outputs": [
        {
          "output_type": "stream",
          "text": [
            "Informes del Año 2001\n",
            "Informes del Año 2002\n",
            "Informes del Año 2003\n",
            "Informes del Año 2004\n",
            "Informes del Año 2005\n",
            "Informes del Año 2006\n",
            "Informes del Año 2007\n",
            "Informes del Año 2008\n",
            "Informes del Año 2009\n",
            "Informes del Año 2010\n",
            "Informes del Año 2011\n",
            "Informes del Año 2012\n"
          ],
          "name": "stdout"
        }
      ]
    },
    {
      "cell_type": "markdown",
      "metadata": {
        "id": "YOyJzHcWkrdH"
      },
      "source": [
        "# 4. Ejemplo\n",
        "\n"
      ]
    },
    {
      "cell_type": "markdown",
      "metadata": {
        "id": "tesN13WSiGOu"
      },
      "source": [
        "## 4.1 "
      ]
    },
    {
      "cell_type": "markdown",
      "metadata": {
        "id": "oQ-dHw1tbiwP"
      },
      "source": [
        "Encontrar cuantas veces se repite la letra \"e\" en un texto ingresado por teclado."
      ]
    },
    {
      "cell_type": "code",
      "metadata": {
        "id": "s1Zc1clekpxr",
        "outputId": "00e917ed-06cd-4e6c-b840-4b044f4d99e9",
        "colab": {
          "base_uri": "https://localhost:8080/",
          "height": 70
        }
      },
      "source": [
        "texto=input(\"Ingrese el texto a analizar: \") # Siempre retorna un str\n",
        "print(type(texto))\n",
        "cont=0\n",
        "for i in texto:\n",
        "  if (i==\"e\"):\n",
        "    cont=cont+1\n",
        "        \n",
        "print(cont)"
      ],
      "execution_count": null,
      "outputs": [
        {
          "output_type": "stream",
          "text": [
            "Ingrese el texto a analizar: Hola esta es una clase introductoria de PDI\n",
            "<class 'str'>\n",
            "4\n"
          ],
          "name": "stdout"
        }
      ]
    },
    {
      "cell_type": "markdown",
      "metadata": {
        "id": "m2wtzBdElICt"
      },
      "source": [
        "## 4.2"
      ]
    },
    {
      "cell_type": "markdown",
      "metadata": {
        "id": "1l1NIrgWbnJd"
      },
      "source": [
        " La suma de los N primeros numeros , donde N es un valor ingresado por teclado."
      ]
    },
    {
      "cell_type": "code",
      "metadata": {
        "id": "N3XP_3zKkkY-",
        "outputId": "49177803-cd94-4009-b90c-d408d48125f3",
        "colab": {
          "base_uri": "https://localhost:8080/",
          "height": 52
        }
      },
      "source": [
        "N=int(input(\"Ingrese el valor de N: \"))\n",
        "sum=0\n",
        "for i in range(N):\n",
        "  sum=sum+i\n",
        "\n",
        "print(sum)"
      ],
      "execution_count": null,
      "outputs": [
        {
          "output_type": "stream",
          "text": [
            "Ingrese el valor de N: 5\n",
            "10\n"
          ],
          "name": "stdout"
        }
      ]
    },
    {
      "cell_type": "code",
      "metadata": {
        "id": "zMGDvnw-d53t",
        "outputId": "b74a415e-2333-4dd1-a1cd-890732006eb8",
        "colab": {
          "base_uri": "https://localhost:8080/",
          "height": 52
        }
      },
      "source": [
        "N=int(input(\"Ingrese el valor de N: \"))\n",
        "sum=0\n",
        "for i in range(N+1):\n",
        "  sum=sum+i\n",
        "\n",
        "print(sum)"
      ],
      "execution_count": null,
      "outputs": [
        {
          "output_type": "stream",
          "text": [
            "Ingrese el valor de N: 6\n",
            "21\n"
          ],
          "name": "stdout"
        }
      ]
    }
  ]
}